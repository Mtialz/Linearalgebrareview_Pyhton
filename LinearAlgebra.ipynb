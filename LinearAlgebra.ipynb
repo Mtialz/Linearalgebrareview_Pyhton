{
 "cells": [
  {
   "cell_type": "markdown",
   "metadata": {},
   "source": [
    "# Linear Algebra review\n",
    "\n",
    "###  Vector and Matrix Norms\n",
    "### Special Matrices and Vectors\n",
    "### Eigenvalues and Eigenvectos"
   ]
  },
  {
   "cell_type": "code",
   "execution_count": 3,
   "metadata": {},
   "outputs": [],
   "source": [
    "import sys\n",
    "import numpy as np\n",
    "import sympy as sp"
   ]
  },
  {
   "cell_type": "code",
   "execution_count": 8,
   "metadata": {},
   "outputs": [
    {
     "name": "stdout",
     "output_type": "stream",
     "text": [
      "[1 2 3]\n",
      "[[1. 1. 1.]\n",
      " [1. 1. 1.]\n",
      " [1. 1. 1.]]\n"
     ]
    }
   ],
   "source": [
    "#print out vector\n",
    "x = np.array((1,2,3))\n",
    "print(x)\n",
    "y = np.ones((3,3))\n",
    "print(y)"
   ]
  },
  {
   "cell_type": "code",
   "execution_count": 10,
   "metadata": {},
   "outputs": [
    {
     "name": "stdout",
     "output_type": "stream",
     "text": [
      "[[1. 1. 1. 1. 1.]\n",
      " [1. 1. 1. 1. 1.]\n",
      " [1. 1. 1. 1. 1.]\n",
      " [1. 1. 1. 1. 1.]\n",
      " [1. 1. 1. 1. 1.]]\n"
     ]
    }
   ],
   "source": [
    "#indexing \n",
    "A = np.ones((5,5), dtype = np.float)\n",
    "print(A)"
   ]
  },
  {
   "cell_type": "code",
   "execution_count": 12,
   "metadata": {},
   "outputs": [
    {
     "name": "stdout",
     "output_type": "stream",
     "text": [
      "[[3. 1. 1. 1. 1.]\n",
      " [3. 1. 1. 1. 1.]\n",
      " [3. 1. 1. 1. 1.]\n",
      " [3. 1. 1. 1. 1.]\n",
      " [3. 1. 1. 1. 1.]]\n"
     ]
    }
   ],
   "source": [
    "A[:,0] = 3\n",
    "print(A)"
   ]
  },
  {
   "cell_type": "code",
   "execution_count": 13,
   "metadata": {},
   "outputs": [
    {
     "name": "stdout",
     "output_type": "stream",
     "text": [
      "[[[6 1 1 1 1]\n",
      "  [1 1 1 1 1]\n",
      "  [1 1 1 1 1]\n",
      "  [1 1 1 1 1]\n",
      "  [1 1 1 1 1]]\n",
      "\n",
      " [[6 1 1 1 1]\n",
      "  [1 1 1 1 1]\n",
      "  [1 1 1 1 1]\n",
      "  [1 1 1 1 1]\n",
      "  [1 1 1 1 1]]\n",
      "\n",
      " [[6 1 1 1 1]\n",
      "  [1 1 1 1 1]\n",
      "  [1 1 1 1 1]\n",
      "  [1 1 1 1 1]\n",
      "  [1 1 1 1 1]]\n",
      "\n",
      " [[6 1 1 1 1]\n",
      "  [1 1 1 1 1]\n",
      "  [1 1 1 1 1]\n",
      "  [1 1 1 1 1]\n",
      "  [1 1 1 1 1]]\n",
      "\n",
      " [[6 1 1 1 1]\n",
      "  [1 1 1 1 1]\n",
      "  [1 1 1 1 1]\n",
      "  [1 1 1 1 1]\n",
      "  [1 1 1 1 1]]]\n"
     ]
    }
   ],
   "source": [
    "#for higher dimensions, simply add an index:\n",
    "B = np.ones((5,5,5), dtype = np.int)\n",
    "\n",
    "#asssign first row a new value\n",
    "B[:,0,0] = 6\n",
    "print(B)"
   ]
  },
  {
   "cell_type": "code",
   "execution_count": 15,
   "metadata": {},
   "outputs": [
    {
     "name": "stdout",
     "output_type": "stream",
     "text": [
      "This is A:\n",
      "[[1 2]\n",
      " [3 4]]\n",
      "This is B:\n",
      "[[1 1]\n",
      " [1 1]]\n"
     ]
    }
   ],
   "source": [
    "A = np.matrix([[1,2],[3,4]])\n",
    "B = np.ones((2,2), dtype = np.int)\n",
    "print('This is A:')\n",
    "print(A)\n",
    "print('This is B:')\n",
    "print(B)"
   ]
  },
  {
   "cell_type": "code",
   "execution_count": 16,
   "metadata": {},
   "outputs": [
    {
     "name": "stdout",
     "output_type": "stream",
     "text": [
      "[[0 1 2]\n",
      " [3 4 5]\n",
      " [6 7 8]]\n"
     ]
    }
   ],
   "source": [
    "A = np.array(range(9))\n",
    "A = A.reshape(3,3)\n",
    "print(A)"
   ]
  },
  {
   "cell_type": "markdown",
   "metadata": {},
   "source": [
    "# Linearly dependent:\n",
    "Suppose we have 3 vectors: vec1, vec2, vec3 which is:"
   ]
  },
  {
   "cell_type": "code",
   "execution_count": 15,
   "metadata": {},
   "outputs": [
    {
     "name": "stdout",
     "output_type": "stream",
     "text": [
      "1: [[1]\n",
      " [1]\n",
      " [1]]\n",
      "2: [[1]\n",
      " [2]\n",
      " [3]]\n",
      "3: [[-1]\n",
      " [ 1]\n",
      " [ 3]]\n"
     ]
    }
   ],
   "source": [
    "vec1 = np.matrix([[1],[1],[1]])\n",
    "vec2 = np.matrix([[1],[2],[3]])\n",
    "vec3 = np.matrix([[-1],[1],[3]])\n",
    "\n",
    "print (\"1:\",vec1)\n",
    "print (\"2:\",vec2)\n",
    "print (\"3:\",vec3)"
   ]
  },
  {
   "cell_type": "markdown",
   "metadata": {},
   "source": [
    "Are those 3 vectors independent?\n",
    "1. Check if x1.vec1 + x2.vec2 + x3.vec3 = [[0],[0],[0]] has non trivial solution. The three vectors are independent ifand only if there are no free variables for system: Ind . x = 0 where Ind is:\n"
   ]
  },
  {
   "cell_type": "code",
   "execution_count": 28,
   "metadata": {},
   "outputs": [
    {
     "name": "stdout",
     "output_type": "stream",
     "text": [
      "[[ 1  1  1]\n",
      " [ 1  2  3]\n",
      " [-1  1  3]]\n",
      "RREF: \n"
     ]
    },
    {
     "data": {
      "text/plain": [
       "(Matrix([\n",
       " [1, 0, -1],\n",
       " [0, 1,  2],\n",
       " [0, 0,  0]]), (0, 1))"
      ]
     },
     "execution_count": 28,
     "metadata": {},
     "output_type": "execute_result"
    }
   ],
   "source": [
    "Ind = np.matrix([[1,1,1],[1,2,3],[-1,1,3]])\n",
    "print(Ind)\n",
    "#RRef \n",
    "print(\"RREF: \")\n",
    "sp.Matrix(Ind).rref()"
   ]
  },
  {
   "cell_type": "markdown",
   "metadata": {},
   "source": [
    "We have a free variable so there are not linearly independent!\n",
    "\n",
    "Try to find linear dependence relation by solving x1.vec1 + x2.vec2 + x3.vec3 = [[0],[0],[0]]\n",
    "\n",
    "As x3 is free above, so for any x3:\n",
    "3x3.vec1 - 2x3.vec2 + x3.vec3 = [[0],[0],[0]]"
   ]
  },
  {
   "cell_type": "markdown",
   "metadata": {},
   "source": [
    "# Diagonal Matrices:\n",
    "### Di,j = 0 for all i != j"
   ]
  },
  {
   "cell_type": "code",
   "execution_count": 20,
   "metadata": {},
   "outputs": [
    {
     "name": "stdout",
     "output_type": "stream",
     "text": [
      "This is a Diagonal Matrices:\n",
      "[[1 0 0]\n",
      " [0 2 0]\n",
      " [0 0 3]]\n"
     ]
    }
   ],
   "source": [
    "D = np.matrix([[1,0,0], [0,2,0],[0,0,3]])\n",
    "print ('This is a Diagonal Matrices:')\n",
    "print(D)"
   ]
  },
  {
   "cell_type": "markdown",
   "metadata": {},
   "source": [
    "### Note for diagonal matrices:\n",
    "\n",
    "Diagonal matrices are useful because multiplying by a diagonal matrix is computationally efficient\n",
    "\n",
    "For diag(v)x, we only need to scale each element xi by vi\n"
   ]
  },
  {
   "cell_type": "code",
   "execution_count": 29,
   "metadata": {},
   "outputs": [
    {
     "name": "stdout",
     "output_type": "stream",
     "text": [
      "[[1 1 1]\n",
      " [2 2 2]\n",
      " [3 3 3]]\n"
     ]
    }
   ],
   "source": [
    "D = np.matrix([[1,0,0], [0,2,0],[0,0,3]])\n",
    "E = np.ones((3,3), dtype = np.int)\n",
    "#D * E = {0: {0:1,1:1,2:1}, 1:{0:2,1:2,2:2}, 2:{0:3, 1:3, 2:3}}\n",
    "\n",
    "print(D*E)"
   ]
  },
  {
   "cell_type": "markdown",
   "metadata": {},
   "source": [
    "In some cases, computationally efficient algorithms are designed by restricting some matrices to be diagonal\n",
    "\n",
    "Diagonal matrices do not need to be square\n"
   ]
  },
  {
   "cell_type": "markdown",
   "metadata": {},
   "source": [
    "# Symmetric Matrices: \n",
    "### Symmetric matrix is any matrix that is equal to its transpose: $A = A^{T}$"
   ]
  },
  {
   "cell_type": "code",
   "execution_count": 31,
   "metadata": {},
   "outputs": [
    {
     "name": "stdout",
     "output_type": "stream",
     "text": [
      "[[1 2 3]\n",
      " [2 3 4]\n",
      " [3 4 5]]\n"
     ]
    }
   ],
   "source": [
    "S = np.matrix([[1,2,3],[2,3,4],[3,4,5]])\n",
    "print(S)"
   ]
  },
  {
   "cell_type": "markdown",
   "metadata": {},
   "source": [
    "# The unit vector:\n",
    "### A unit vector is a vector with unit norm: ||x||2 = 1\n",
    "\n",
    "A unit vector can be obtained by normalizing any vector. \n",
    "\n",
    "Normalization is the proccess of diving a vector by its magnitude with produces a unit vector:\n",
    "\n",
    "x = [1,1,1,1] => x/srqt(1^2 + 1^2 + 1^2 + 1^2)  = x/sqrt(4) = [1/2, 1/2, 1/2, 1/2] =>(This vector has magnitude of 1)\n"
   ]
  },
  {
   "cell_type": "markdown",
   "metadata": {},
   "source": [
    "# Inverse Matrix:\n",
    "A*A^-1 = A^-1*A = I where I is identity matrix\n",
    "\n",
    "Identity matrix is : square matrix + 1 on the diagonal and 0 elsewhere\n",
    "\n",
    "It is similar to the reciprocal for integers."
   ]
  },
  {
   "cell_type": "code",
   "execution_count": 5,
   "metadata": {},
   "outputs": [
    {
     "name": "stdout",
     "output_type": "stream",
     "text": [
      "[[1 0 0]\n",
      " [0 1 0]\n",
      " [0 0 1]]\n"
     ]
    }
   ],
   "source": [
    "I = np.matrix([[1,0,0],[0,1,0],[0,0,1]])\n",
    "print(I)"
   ]
  },
  {
   "cell_type": "markdown",
   "metadata": {},
   "source": [
    "# Orthogonality\n",
    "### A vector x and a vector y are orthogonal to each other if x T y = 0\n",
    "Intuitively, if two vectors are orthogonal and both vectors have a nonzero magnitude, they will be at a 90 degree angle to each other.\n",
    "\n",
    "If two vectors are orthogonal and unit vectors, they are called orthonormal"
   ]
  },
  {
   "cell_type": "markdown",
   "metadata": {},
   "source": [
    "# Least sequares\n",
    "### Definition:\n",
    "\n",
    "x^ is a least squares solution of the system Ax = b if x^ is such that Ax^ -b is as small as possible.\n",
    "\n",
    "Find least suqares solution to Ax = b where :"
   ]
  },
  {
   "cell_type": "code",
   "execution_count": 4,
   "metadata": {},
   "outputs": [
    {
     "name": "stdout",
     "output_type": "stream",
     "text": [
      "A: [[ 1  1]\n",
      " [-1  1]\n",
      " [ 0  0]]\n",
      "B: [[2]\n",
      " [1]\n",
      " [1]]\n"
     ]
    }
   ],
   "source": [
    "A = np.matrix([[1,1],[-1,1],[0,0]])\n",
    "B = np.matrix([[2],[1],[1]])\n",
    "print (\"A:\", A)\n",
    "print (\"B:\", B)"
   ]
  },
  {
   "cell_type": "markdown",
   "metadata": {},
   "source": [
    "Idea. Ax = b is consistent <=> b is in Col(A)\n",
    "\n",
    "So if Ax = b is inconsistent we\n",
    "\n",
    "- replace b with its projection ^b\n",
    "onto Col(A),\n",
    "\n",
    "- and solve A^x = ^ b.(consistent by construction!)"
   ]
  },
  {
   "cell_type": "code",
   "execution_count": 19,
   "metadata": {},
   "outputs": [
    {
     "name": "stdout",
     "output_type": "stream",
     "text": [
      "[2, 1, 1]\n",
      "[1, -1, 0]\n"
     ]
    }
   ],
   "source": [
    "A1 = [[1,1],[-1,1],[0,0]]\n",
    "B1 = [[2],[1],[1]]\n",
    "def col(matrix, i):\n",
    "    return [row[i] for row in matrix]\n",
    "\n",
    "#column 1 of B ad A\n",
    "print(col(B1,0))\n",
    "print(col(A1,0))\n"
   ]
  },
  {
   "cell_type": "markdown",
   "metadata": {},
   "source": [
    "Cols(A) are orthogonal, projection of b of b onto Col(A) is:\n",
    "\n",
    "$b  = \\dfrac{Col(B1,0) * col(A1,0)}{(Col(A1,0)^2}{Col(A1,0)}\n",
    "  + \\dfrac{Col(B1,0) * col(A1,1)}{(Col(A1,1)^2}{Col(A1,1)} = [[2],[1],[0]]\n",
    "$\n",
    "\n",
    "then x = [[1/2],[3/2]]"
   ]
  },
  {
   "cell_type": "markdown",
   "metadata": {},
   "source": [
    "### Normal equations:\n",
    "^x is a least squares solution of Ax = b <=> ATA^x = ATb"
   ]
  },
  {
   "cell_type": "markdown",
   "metadata": {},
   "source": [
    "# QR decomposition\n",
    "In general, to obtain A = QR:\n",
    "- Gram-Schmidt on (columns of) A, to get (columns of) Q.\n",
    "- Then $R = Q^{T}A$."
   ]
  },
  {
   "cell_type": "markdown",
   "metadata": {},
   "source": [
    "Find the QR decomposition of QR_matrix ="
   ]
  },
  {
   "cell_type": "code",
   "execution_count": 22,
   "metadata": {},
   "outputs": [
    {
     "name": "stdout",
     "output_type": "stream",
     "text": [
      "QRm: [[1, 2, 4], [0, 0, 5], [0, 3, 6]]\n"
     ]
    }
   ],
   "source": [
    "QRm = [[1,2,4],[0,0,5],[0,3,6]]\n",
    "print(\"QRm:\", QRm)"
   ]
  },
  {
   "cell_type": "markdown",
   "metadata": {},
   "source": [
    "We apply Gram-Schmidt to the columns of A:"
   ]
  },
  {
   "cell_type": "code",
   "execution_count": 23,
   "metadata": {
    "scrolled": true
   },
   "outputs": [
    {
     "name": "stdout",
     "output_type": "stream",
     "text": [
      "q1: [1, 0, 0]\n"
     ]
    }
   ],
   "source": [
    "#See col function above.\n",
    "q1 = col(QRm,0)\n",
    "#q1 = np.matrix([[1],[0],[0]])\n",
    "print(\"q1:\", q1)"
   ]
  },
  {
   "cell_type": "markdown",
   "metadata": {},
   "source": [
    "$q2 = col(QRm,1) - <col(QRm,1), q1>.q1$ (3x1 matrix) \n",
    "\n",
    "$q3 = col(QRm,2) - <col(QRm,2), q1>*q1 - <col(QRm,2), q2>*q2$ (3x1 matrix)\n",
    "\n",
    "$Q  = [q1, q2, q3]$ (3x3 matrix)"
   ]
  },
  {
   "cell_type": "markdown",
   "metadata": {},
   "source": [
    "Q is a permutation matrix and so orthogonal. Q\n",
    "\n",
    "Q has orthonormal columns so $Q^{T}Q = 1$ !\n",
    "\n",
    "To find R in A = QR, note that $Q^{T}A = Q^{T}QR = R$."
   ]
  },
  {
   "cell_type": "markdown",
   "metadata": {},
   "source": [
    "# Eigenvalues and Eigenvectors"
   ]
  },
  {
   "cell_type": "markdown",
   "metadata": {},
   "source": [
    "Breaking mathematical objects into their constituent parts!\n",
    "\n",
    "We can decompose matrices in ways that reveals information about their functional properties that is not immediately obvious from the representaion of the matrix as an array of elements \n",
    "\n",
    "Matrix => { Eigenvectors, Eigenvalues }\n",
    "\n",
    "### The eigenvector:\n",
    "The eigenvector of a square matrix A is a nonzero vector v such that multiplication by A alters only the scale of v\n",
    "\n",
    "Av = $\\lambda$v: v is the eigenvector, $\\lambda$ is a scalar, the eigenvalue corresponding to v\n",
    "\n",
    "Each eigenvector has an eigenvalue. Eigenvector is a vector that can be multiply by matrix A but doesn't change orientation."
   ]
  },
  {
   "cell_type": "markdown",
   "metadata": {},
   "source": [
    "### Eigendecomposition:\n",
    "If a matrix A has n linearly independent eigenvectors... We can form a martix V with one eigenvector per clumn and a vector 7 of all the eigenvalues.\n",
    "\n",
    "The eigendecomposition of A is then given by:\n",
    "\n",
    "$A = V*diag(\\lambda)*V^{-1}$ where diag($\\lambda$) is diagonal matrix, $V^{-1}$ = inverse matrix."
   ]
  },
  {
   "cell_type": "markdown",
   "metadata": {},
   "source": [
    "Ax = $\\lambda$x <=> Ax - $\\lambda$x = 0 <=> (A-$\\lambda$I)x = 0"
   ]
  },
  {
   "cell_type": "markdown",
   "metadata": {},
   "source": [
    "Example: Find eigenvectors and eigenvalues of A:"
   ]
  },
  {
   "cell_type": "code",
   "execution_count": 62,
   "metadata": {},
   "outputs": [
    {
     "name": "stdout",
     "output_type": "stream",
     "text": [
      "A: [[ 3  2  3]\n",
      " [ 0  6 10]\n",
      " [ 0  0  2]]\n"
     ]
    }
   ],
   "source": [
    "A = np.matrix([[3,2,3],[0,6,10],[0,0,2]])\n",
    "print('A:', A)"
   ]
  },
  {
   "cell_type": "markdown",
   "metadata": {},
   "source": [
    "det(A - $\\lambda$ I) = (3 - $\\lambda$I).(3 - $\\lambda$I).(2 - $\\lambda$I) \n",
    "\n",
    "So A has eigenvalues of 2,3,6\n",
    "\n",
    "The eigenvalues of a triangular matrix are its diagonal entries: so we have corresponding eigenvectors:\n",
    "\n",
    "$\\lambda_1$ = 2: (A - $\\lambda_1 I$)x = [[1,2,3],[0,4,10],[0,0,0]] * x = 0 => $x_1$ = [[2],[-5/2],[1]]\n",
    "\n",
    "$\\lambda_2$ = 3: (A - $\\lambda_2 I$)x = [[0,2,3],[0,3,10],[0,0,-1]] * x = 0 => $x_2$ = [[1],[0],[0]]\n",
    "\n",
    "$\\lambda_3$ = 6: (A - $\\lambda_3 I$)x = [[-3,2,3],[0,0,10],[0,0,-4]] * x = 0 => $x_3$ = [[2],[3],[0]]\n",
    " "
   ]
  },
  {
   "cell_type": "markdown",
   "metadata": {},
   "source": [
    "### Eigendecomposition Properties\n",
    "\n",
    "Not every matrix can be decomposed into eigenvalues and eigenvectors\n",
    "\n",
    "A matrix is singular (the inverse does not exist) if any of the eigenvalues are zeros\n",
    "\n",
    "A matrix whose eigenvalues are all positive is called positive definite\n",
    "\n",
    "A matrix whose eigenvalues are all positive or zero is positive semidefinite\n",
    "\n",
    "Similarly, a matrix whose eigenvalues are all negative is negative definite / negative or zero is negative semidefinite "
   ]
  },
  {
   "cell_type": "markdown",
   "metadata": {},
   "source": [
    "### Why eigendecomposition?\n",
    "Eigenvalue decomposition is used in principle components analysis (PCA)\n",
    "\n",
    "PCA is a statistical procedure that is used to convert a set of observations of possibly correlated variables into a set of values of linearly uncorrelated variables called principal components\n",
    "\n",
    "In other words, PCA is a method of summarizing the data or compressing the data/"
   ]
  }
 ],
 "metadata": {
  "kernelspec": {
   "display_name": "Python 3",
   "language": "python",
   "name": "python3"
  },
  "language_info": {
   "codemirror_mode": {
    "name": "ipython",
    "version": 3
   },
   "file_extension": ".py",
   "mimetype": "text/x-python",
   "name": "python",
   "nbconvert_exporter": "python",
   "pygments_lexer": "ipython3",
   "version": "3.6.4"
  }
 },
 "nbformat": 4,
 "nbformat_minor": 2
}
